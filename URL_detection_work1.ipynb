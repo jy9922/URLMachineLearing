{
  "nbformat": 4,
  "nbformat_minor": 0,
  "metadata": {
    "colab": {
      "name": "URL_detection_work1.ipynb",
      "private_outputs": true,
      "provenance": [],
      "collapsed_sections": [],
      "authorship_tag": "ABX9TyPqNXshskPGoSNQI93As4Rm",
      "include_colab_link": true
    },
    "kernelspec": {
      "name": "python3",
      "display_name": "Python 3"
    },
    "language_info": {
      "name": "python"
    }
  },
  "cells": [
    {
      "cell_type": "markdown",
      "metadata": {
        "id": "view-in-github",
        "colab_type": "text"
      },
      "source": [
        "<a href=\"https://colab.research.google.com/github/jy9922/URLMachineLearing/blob/main/URL_detection_work1.ipynb\" target=\"_parent\"><img src=\"https://colab.research.google.com/assets/colab-badge.svg\" alt=\"Open In Colab\"/></a>"
      ]
    },
    {
      "cell_type": "code",
      "execution_count": null,
      "metadata": {
        "id": "xe6djd1npeph"
      },
      "outputs": [],
      "source": [
        "import numpy as np\n",
        "import pandas as pd\n",
        "import matplotlib.pyplot as plt\n",
        "import urllib.request\n",
        "import seaborn as sns\n",
        "from sklearn.model_selection import train_test_split\n",
        "from tensorflow.keras.preprocessing.text import Tokenizer\n",
        "from tensorflow.keras.preprocessing.sequence import pad_sequences\n",
        "\n",
        "data = pd.read_csv('/content/url_data_2.csv', encoding='latin1')\n",
        "display(data.info())"
      ]
    },
    {
      "cell_type": "code",
      "source": [
        "print('총 샘플의 수 :',len(data))"
      ],
      "metadata": {
        "id": "ePwYP0tap8NC"
      },
      "execution_count": null,
      "outputs": []
    },
    {
      "cell_type": "code",
      "source": [
        "data[:5]"
      ],
      "metadata": {
        "id": "BYn9600-twjU"
      },
      "execution_count": null,
      "outputs": []
    },
    {
      "cell_type": "code",
      "source": [
        "data = data[['url','label','result','url_length','hostname_length','path_length','count-','count@','count?','count%','count,','count=','count-http','count-https','count-www','no_ip']]\n",
        "\n",
        "data[:5]"
      ],
      "metadata": {
        "id": "pAC4XrTSuHTa"
      },
      "execution_count": null,
      "outputs": []
    },
    {
      "cell_type": "code",
      "source": [
        "data['label'] = data['label'].replace(['url','murl'],[1,0])"
      ],
      "metadata": {
        "id": "Q7RP-gpUVdo7"
      },
      "execution_count": null,
      "outputs": []
    },
    {
      "cell_type": "code",
      "source": [
        "data['url'].nunique(), data['label'].nunique() "
      ],
      "metadata": {
        "id": "dO_Rt1ERvmZY"
      },
      "execution_count": null,
      "outputs": []
    },
    {
      "cell_type": "code",
      "source": [
        "data.drop_duplicates(subset=['url'], inplace=True)   \n",
        "print('총 샘플의 수 : ', len(data))"
      ],
      "metadata": {
        "id": "hqezQRvYvrB5"
      },
      "execution_count": null,
      "outputs": []
    },
    {
      "cell_type": "code",
      "source": [
        "from urllib.parse import urlparse"
      ],
      "metadata": {
        "id": "TxLHvmOKwshv"
      },
      "execution_count": null,
      "outputs": []
    },
    {
      "cell_type": "code",
      "source": [
        "import ipaddress"
      ],
      "metadata": {
        "id": "QulOD3K33bKM"
      },
      "execution_count": null,
      "outputs": []
    },
    {
      "cell_type": "code",
      "source": [
        "def having_ip_address(url):\n",
        "   try:\n",
        "     ipaddress.ip_address(url)\n",
        "   except:\n",
        "     if(urlparse(url).path):\n",
        "       return 0.0\n",
        "     else:\n",
        "       return 0.0\n",
        "   else:\n",
        "     return 1.0"
      ],
      "metadata": {
        "id": "f1W-qkcB3lhR"
      },
      "execution_count": null,
      "outputs": []
    },
    {
      "cell_type": "code",
      "source": [
        "data['url_length'] = data['url'].apply(lambda i: len(str(i)))\n",
        "data['hostname_length'] = data['url'].astype(str).apply(lambda i: len(urlparse(i).netloc))\n",
        "data['path_length'] = data['url'].astype(str).apply(lambda i : len(urlparse(i).path))\n",
        "data['count-'] = data['url'].astype(str).apply(lambda i : i.count('-'))\n",
        "data['count@'] = data['url'].astype(str).apply(lambda i : i.count('@'))\n",
        "data['count?'] = data['url'].astype(str).apply(lambda i : i.count('?'))\n",
        "data['count%'] = data['url'].astype(str).apply(lambda i : i.count('%'))\n",
        "data['count,'] = data['url'].astype(str).apply(lambda i : i.count(','))\n",
        "data['count='] = data['url'].astype(str).apply(lambda i : i.count('='))\n",
        "data['count-http'] = data['url'].astype(str).apply(lambda i : i.count('http'))\n",
        "data['count-https'] = data['url'].astype(str).apply(lambda i : i.count('https'))\n",
        "data['count-www'] = data['url'].astype(str).apply(lambda i : i.count('www'))\n",
        "data['no_ip'] = data['url'].astype(str).apply(lambda i : having_ip_address(i))\n",
        "data[:5]"
      ],
      "metadata": {
        "id": "F2035p3uwDxa"
      },
      "execution_count": null,
      "outputs": []
    },
    {
      "cell_type": "code",
      "source": [
        "from sklearn.model_selection import train_test_split\n",
        "from sklearn.metrics import confusion_matrix, classification_report, accuracy_score\n",
        "\n",
        "x = data[['hostname_length','path_length','count-','count@','count?','count%','count,','count=','count-http','count-https','count-www','no_ip']]\n",
        "y = data['result']\n",
        "\n",
        "print(x.shape)\n",
        "print(y.shape)\n",
        "print(\"Percent Of Malicious URLs:{:.2f} %\".format(len(data[data['label']==0.0])/len(data['label'])*100))\n",
        "print(\"Percent Of Benign URLs:{:.2f} %\".format(len(data[data['label']==1.0])/len(data['label'])*100))\n"
      ],
      "metadata": {
        "id": "l3ukqhKT56kb"
      },
      "execution_count": null,
      "outputs": []
    },
    {
      "cell_type": "code",
      "source": [
        "plt.figure(figsize=(15,5))\n",
        "sns.countplot(x=\"label\",data=data)\n",
        "plt.title(\"Count Of URLs\",fontsize=\"15\")\n",
        "plt.xlabel(\"Type of URLS\", fontsize=\"13\")\n",
        "plt.ylabel(\"Number of URLs\", fontsize=\"13\")"
      ],
      "metadata": {
        "id": "AOYXIrU78pNQ"
      },
      "execution_count": null,
      "outputs": []
    },
    {
      "cell_type": "code",
      "source": [
        "x_df = pd.DataFrame(x)\n",
        "y_df = pd.DataFrame(y)"
      ],
      "metadata": {
        "id": "h38nBz5cN8sS"
      },
      "execution_count": null,
      "outputs": []
    },
    {
      "cell_type": "code",
      "source": [
        "x_df.dropna(axis=0, how='any')\n",
        "y_df.dropna(axis=0, how='any')"
      ],
      "metadata": {
        "id": "sLiLW5srQsJb"
      },
      "execution_count": null,
      "outputs": []
    },
    {
      "cell_type": "code",
      "source": [
        "from imblearn.over_sampling import SMOTE\n",
        "\n",
        "x_sample, y_sample = SMOTE().fit_resample(x,y.ravel())\n",
        "\n",
        "x_sample = pd.DataFrame(x_sample)\n",
        "y_sample = pd.DataFrame(y_sample)\n",
        "\n",
        "print(\"Size of x_sample:\", x_sample.shape)\n",
        "print(\"Size of y_sample:\", y_sample.shape)"
      ],
      "metadata": {
        "id": "lSXMe_3y5DeA"
      },
      "execution_count": null,
      "outputs": []
    },
    {
      "cell_type": "code",
      "source": [
        "from sklearn.model_selection import train_test_split\n",
        "x_train, x_test, y_train, y_test = train_test_split(x,y,test_size=0.3)\n",
        "print(\"Shape of x_train:\", x_train.shape)\n",
        "print(\"Shape of y_train:\", y_train.shape)\n",
        "print(\"Shape of x_test:\", x_test.shape)\n",
        "print(\"Shape of y_test:\", y_test.shape)\n",
        "\n",
        "x_train, x_valid, y_train, y_valid = train_test_split(x_train,y_train,test_size=0.2)\n",
        "print(\"Shape of x_train:\", x_train.shape)\n",
        "print(\"Shape of x_train:\", x_test.shape)\n",
        "print(\"Shape of x_valid:\", x_valid.shape)\n",
        "print(\"Shape of y_train:\", y_train.shape)\n",
        "print(\"Shape of y_train:\", y_test.shape)\n",
        "print(\"Shape of y_valid:\", y_valid.shape)\n",
        "\n"
      ],
      "metadata": {
        "id": "pICyE6fjM7SO"
      },
      "execution_count": null,
      "outputs": []
    },
    {
      "cell_type": "code",
      "source": [
        "from tensorflow.keras.layers import Dense, Conv1D, GlobalMaxPooling1D, Embedding, Dropout, MaxPooling1D\n",
        "from tensorflow.keras.models import Sequential\n",
        "from tensorflow.keras.callbacks import EarlyStopping, ModelCheckpoint\n",
        "from tensorflow.keras.models import load_model"
      ],
      "metadata": {
        "id": "vzQTwGd_OQcw"
      },
      "execution_count": null,
      "outputs": []
    },
    {
      "cell_type": "code",
      "source": [
        "model = Sequential()\n",
        "model.add(Dense(32, activation='relu', input_shape=(12, )))\n",
        "\n",
        "model.add(Dense(16, activation='relu'))\n",
        "\n",
        "model.add(Dense(8, activation='relu'))\n",
        "\n",
        "model.add(Dense(1, activation='sigmoid'))\n",
        "model.summary()"
      ],
      "metadata": {
        "id": "82ichDaEOZPJ"
      },
      "execution_count": null,
      "outputs": []
    },
    {
      "cell_type": "code",
      "source": [
        "from tensorflow import keras\n",
        "\n",
        "opt = keras.optimizers.Adam(lr=0.0001)\n",
        "model.compile(optimizer=opt, loss='binary_crossentropy', metrics=['acc'])\n",
        "\n",
        "checkpointer = ModelCheckpoint('best_model.h5', monitor = 'val_acc', mode = 'max', verbose = 2, save_best_only = True)"
      ],
      "metadata": {
        "id": "Mj6OsGNsO_0H"
      },
      "execution_count": null,
      "outputs": []
    },
    {
      "cell_type": "code",
      "source": [
        "history = model.fit(x_train, y_train, epochs = 50, batch_size=265, validation_data=(x_valid, y_valid), callbacks=[checkpointer])"
      ],
      "metadata": {
        "id": "g-RBq_LpPuMm"
      },
      "execution_count": null,
      "outputs": []
    },
    {
      "cell_type": "code",
      "source": [
        "print(\"\\n 테스트 정확도: %.4f\" % (model.evaluate(x_test, y_test)[1]))"
      ],
      "metadata": {
        "id": "7Ln8_KG853I5"
      },
      "execution_count": null,
      "outputs": []
    },
    {
      "cell_type": "code",
      "source": [
        "pred_test = model.predict(x_test)"
      ],
      "metadata": {
        "id": "OjbnyhztxPNi"
      },
      "execution_count": null,
      "outputs": []
    },
    {
      "cell_type": "code",
      "source": [
        "preds_1d = pred_test.flatten() # 차원 펴주기\n",
        "pred_class = np.where(preds_1d > 0.5, 1 , 0) #0.5보다크면 2, 작으면 1"
      ],
      "metadata": {
        "id": "hclfz_lZ0FWy"
      },
      "execution_count": null,
      "outputs": []
    },
    {
      "cell_type": "code",
      "source": [
        "from sklearn.metrics import accuracy_score, precision_score, recall_score, confusion_matrix\n",
        "\n",
        "def get_clf_eval (y_test, pred):\n",
        "  confusion = confusion_matrix(y_test, pred)\n",
        "  accuracy = accuracy_score(y_test, pred)\n",
        "  precision = precision_score(y_test, pred)\n",
        "  recall = recall_score(y_test, pred)\n",
        "  print(\"Confusion Matrix\")\n",
        "  print(confusion)\n",
        "  print('정확도:{}, 정밀도:{}, 재현율:{}'.format(accuracy, precision, recall))\n",
        "\n",
        "get_clf_eval(y_test,pred_class)\n",
        "\n",
        "model.save('model.h5')"
      ],
      "metadata": {
        "id": "RVc7YSdB4PCX"
      },
      "execution_count": null,
      "outputs": []
    }
  ]
}